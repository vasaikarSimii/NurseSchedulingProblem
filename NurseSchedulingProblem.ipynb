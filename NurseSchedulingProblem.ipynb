{
 "cells": [
  {
   "cell_type": "markdown",
   "id": "16517185",
   "metadata": {},
   "source": [
    "#                               Nurse Scheduling Algorithm"
   ]
  },
  {
   "cell_type": "markdown",
   "id": "4c0026c1",
   "metadata": {},
   "source": [
    "Organizations whose employees work multiple shifts need to schedule sufficient workers for each daily shift.\n",
    "Nurse scheduling is nothing but a weekly or\n",
    "monthly plan for all nurses in hospital, and is\n",
    "obtained by assigning shift categories to the\n",
    "nurses or assigning nurses to shift. Nurse\n",
    "Scheduling represents a task which consists of\n",
    "creating a schedule for the nurses in a hospital.\n",
    "The Nurse Scheduling Problem (NSP) is a\n",
    "common problem every hospital faces every day.\n",
    "##### GOAL: create a timetable that assign nurses to each shift, balancing the workload and preferences.\n",
    "❖ Scheduling Period ❖ Professional Level of nurses"
   ]
  },
  {
   "cell_type": "markdown",
   "id": "865d35a7",
   "metadata": {},
   "source": [
    "## There are two types of constraints to be taken under consideration:\n",
    "\n",
    "### HARD CONSTRAINTS : \n",
    "If this constraint fails then the entire schedule is invalid ----> FEASIBILITY\n",
    "##### Type 1 - Shift Division :  \n",
    "Each day is divided into three 8-hour shifts.\n",
    "##### Type 2 - Nurse Coverage: \n",
    "Every day, each shift is assigned to a single nurse, and no nurse works more than one shift.\n",
    "##### Type 3 - Working Pattern: \n",
    "Each nurse is assigned to at least two shifts during the three-day period.\n",
    "\n",
    "\n",
    "### SOFT CONSTRAINTS : \n",
    "It is desirable that these constraints are met but not meeting them does not make the schedule invalid. -----> OPTIMALITY \n",
    "##### Type 1 - Satisfaction/ Preferences: \n",
    "total number of Off-days = 4,\n",
    "total number of night-shifts = 3, etc.\n"
   ]
  },
  {
   "cell_type": "markdown",
   "id": "8fd0d425",
   "metadata": {},
   "source": [
    "## Pyomo as optimization modeling environment: \n",
    "To solve this problem we will make use of Pyomo, in their own words a “Python-based, open-source optimization modeling language with a diverse set of optimization capabilities”. So we import its packages. "
   ]
  },
  {
   "cell_type": "code",
   "execution_count": null,
   "id": "69a183cb",
   "metadata": {},
   "outputs": [],
   "source": [
    "import sys\n",
    "!{sys.executable} -m pip install pyomo"
   ]
  },
  {
   "cell_type": "code",
   "execution_count": null,
   "id": "92871494",
   "metadata": {},
   "outputs": [],
   "source": [
    "from pyomo.environ import *\n",
    "from pyomo.opt import SolverFactory"
   ]
  },
  {
   "cell_type": "markdown",
   "id": "fa15cb29",
   "metadata": {},
   "source": [
    "## Define model parameters\n",
    "The first step is to enter the data, this means to provide the model, in this case, the days we are considering, workers, shifts"
   ]
  },
  {
   "cell_type": "code",
   "execution_count": null,
   "id": "15e7a73e",
   "metadata": {},
   "outputs": [],
   "source": [
    "# Define days (1 week)\n",
    "days = ['Mon', 'Tue', 'Wed', 'Thu', 'Fri', 'Sat', 'Sun']\n",
    "\n",
    "# Enter shifts of each day\n",
    "shifts = ['morning', 'evening', 'night']  # 3 shifts of 8 hours\n",
    "days_shifts = {day: shifts for day in days}  # dict with day as key and list of its shifts as value\n",
    "\n",
    "# Enter Nurse ids (name, number, ...)\n",
    "nurses = ['W' + str(i) for i in range(1, 11)]  # 10 nurses available, more than needed\n"
   ]
  },
  {
   "cell_type": "markdown",
   "id": "b4bdd37b",
   "metadata": {},
   "source": [
    "## Initialize model\n",
    "To build the model, we need to initialize the model and create the decision variables.\n"
   ]
  },
  {
   "cell_type": "code",
   "execution_count": null,
   "id": "bf4ca41d",
   "metadata": {},
   "outputs": [],
   "source": [
    "# Initialize model\n",
    "model = ConcreteModel()\n",
    "\n",
    "# binary variables representing if a nurse is scheduled somewhere\n",
    "model.works = Var(((nurse, day, shift) for nurse in nurses for day in days for shift in days_shifts[day]),\n",
    "                  within=Binary, initialize=0)\n",
    "\n",
    "# binary variables representing if a nurse is necessary\n",
    "model.needed = Var(nurses, within=Binary, initialize=0)\n",
    "\n",
    "# binary variables representing if a nurse worked on sunday but not on saturday (avoid if possible)\n",
    "model.no_pref = Var(nurses, within=Binary, initialize=0)"
   ]
  },
  {
   "cell_type": "markdown",
   "id": "cec2a898",
   "metadata": {},
   "source": [
    "### We add with Var() variables to the model, indexed by lists.\n",
    "#### works: \n",
    "binary variable indexed by nurses, days and shifts. 1 if the nurses has to work that day on that shift.\n",
    "#### needed:\n",
    "binary variable indexed by nurses. 1 if the nurse is necessary to include in the workforce.\n",
    "#### no_pref: \n",
    "binary variable indexed by nurses. 1 if it does not work on Sunday but it does on Saturday.\n",
    "\n"
   ]
  },
  {
   "cell_type": "markdown",
   "id": "4e009da9",
   "metadata": {},
   "source": [
    "## Define objective function."
   ]
  },
  {
   "cell_type": "code",
   "execution_count": null,
   "id": "62cef396",
   "metadata": {},
   "outputs": [],
   "source": [
    "def obj_rule(m):\n",
    "    c = len(nurses)\n",
    "    return sum(m.no_pref[nurse] for nurse in nurses) + sum(c * m.needed[nurse] for nurse in nurses)\n",
    "# we multiply the second term by a constant to make sure that it is the primary objective\n",
    "# since sum(m.no_prefer) is at most len(nurses), len(nurses) + 1 is a valid constant.\n",
    "\n",
    "\n",
    "# add objective function to the model. rule (pass function) or expr (pass expression directly)\n",
    "model.obj = Objective(rule=obj_rule, sense=minimize)"
   ]
  },
  {
   "cell_type": "markdown",
   "id": "abde80f6",
   "metadata": {},
   "source": [
    "## Add model constraints :\n",
    "\n",
    "### We create a ConstraintList() and then add whatever constraints we want to the container with the function add.\n",
    "The goal is to find a schedule that minimizes the number of workers also the number of workers that work on Sundays but not on Saturdays."
   ]
  },
  {
   "cell_type": "code",
   "execution_count": null,
   "id": "ae49665b",
   "metadata": {},
   "outputs": [],
   "source": [
    "model.constraints = ConstraintList()  # Create a set of constraints\n",
    "\n",
    "# Constraint: all shifts are assigned\n",
    "for day in days:\n",
    "    for shift in days_shifts[day]:\n",
    "        if day in days[:-1] and shift in ['morning', 'evening']:\n",
    "            # weekdays' and Saturdays' day shifts have exactly two nurses\n",
    "            model.constraints.add(  # to add a constraint to model.constraints set\n",
    "                2 == sum(model.works[nurse, day, shift] for nurse in nurses)\n",
    "            )\n",
    "        else:\n",
    "            # Sundays' and nights' shifts have exactly one nurse\n",
    "            model.constraints.add(\n",
    "                1 == sum(model.works[nurse, day, shift] for nurse in nurses)\n",
    "            )\n",
    "\n",
    "# Constraint: no more than 40 hours worked\n",
    "for nurse in nurses:\n",
    "    model.constraints.add(\n",
    "        40 >= sum(8 * model.works[nurse, day, shift] for day in days for shift in days_shifts[day])\n",
    "    )\n",
    "\n",
    "# Constraint: rest between two shifts is of 12 hours (i.e., at least two shifts)\n",
    "for nurse in nurses:\n",
    "    for j in range(len(days)):\n",
    "        # if working in morning, cannot work again that day\n",
    "        model.constraints.add(\n",
    "            1 >= sum(model.works[nurse, days[j], shift] for shift in days_shifts[days[j]])\n",
    "        )\n",
    "        # if working in evening, until next evening (note that after sunday comes next monday)\n",
    "        model.constraints.add(\n",
    "            1 >= sum(model.works[nurse, days[j], shift] for shift in ['evening', 'night']) +\n",
    "            model.works[nurse, days[(j + 1) % 7], 'morning']\n",
    "        )\n",
    "        # if working in night, until next night\n",
    "        model.constraints.add(\n",
    "            1 >= model.works[nurse, days[j], 'night'] +\n",
    "            sum(model.works[nurse, days[(j + 1) % 7], shift] for shift in ['morning', 'evening'])\n",
    "        )\n",
    "\n",
    "# Constraint (def of model.needed)\n",
    "for nurse in nurses:\n",
    "    model.constraints.add(\n",
    "        10000 * model.needed[nurse] >= sum(model.works[nurse, day, shift] for day in days for shift in days_shifts[day])\n",
    "    )  # if any model.works[nurses, ·, ·] non-zero, model.needed[nurse] must be one; else is zero to reduce the obj function\n",
    "    # 10000 is to remark, but 5 was enough since max of 40 hours yields max of 5 shifts, the maximum possible sum\n",
    "\n",
    "# Constraint (def of model.no_pref)\n",
    "for nurse in nurses:\n",
    "    model.constraints.add(\n",
    "        model.no_pref[nurse] >= sum(model.works[nurse, 'Sat', shift] for shift in days_shifts['Sat'])\n",
    "        - sum(model.works[nurse, 'Sun', shift] for shift in days_shifts['Sun'])\n",
    "    )  # if not working on sunday but working saturday model.needed must be 1; else will be zero to reduce the obj function\n"
   ]
  },
  {
   "cell_type": "markdown",
   "id": "95c79038",
   "metadata": {},
   "source": [
    "## Find the solution: \n",
    "Local solver: Need to have installed glpk solver and added the executable to the path. "
   ]
  },
  {
   "cell_type": "code",
   "execution_count": null,
   "id": "0329289e",
   "metadata": {},
   "outputs": [],
   "source": [
    "opt = SolverFactory('glpk')  # choose a solver\n",
    "results = opt.solve(model)  # solve the model with the selected solver"
   ]
  },
  {
   "cell_type": "markdown",
   "id": "90d5e00c",
   "metadata": {},
   "source": [
    "## Extract the solution"
   ]
  },
  {
   "cell_type": "code",
   "execution_count": null,
   "id": "1c845d37",
   "metadata": {},
   "outputs": [],
   "source": [
    "def get_nurses_needed(needed):\n",
    "    \"\"\"Extract to a list the needed nurses for the optimal solution.\"\"\"\n",
    "    nurses_needed = []\n",
    "    for nurse in nurses:\n",
    "        if needed[nurse].value == 1:\n",
    "            nurses_needed.append(nurse)\n",
    "    return nurses_needed\n",
    "\n",
    "\n",
    "def get_work_table(works):\n",
    "    \"\"\"Build a timetable of the week as a dictionary from the model's optimal solution.\"\"\"\n",
    "    week_table = {day: {shift: [] for shift in days_shifts[day]} for day in days}\n",
    "    for nurse in nurses:\n",
    "        for day in days:\n",
    "            for shift in days_shifts[day]:\n",
    "                    if works[nurse, day, shift].value == 1:\n",
    "                        week_table[day][shift].append(nurse)\n",
    "    return week_table\n",
    "\n",
    "\n",
    "def get_no_preference(no_pref):\n",
    "    \"\"\"Extract to a list the nurses not satisfied with their weekend preference.\"\"\"\n",
    "    return [nurse for nurse in nurses if no_pref[nurse].value == 1]\n",
    "\n",
    "\n",
    "nurses_needed = get_nurses_needed(model.needed)  # dict with the optimal timetable\n",
    "week_table = get_work_table(model.works)  # list with the required nurses\n",
    "nurses_no_pref = get_no_preference(model.no_pref)  # list with the non-satisfied nurses (work on Sat but not on Sun)"
   ]
  },
  {
   "cell_type": "markdown",
   "id": "81241eec",
   "metadata": {},
   "source": [
    "# Conclusion : \n"
   ]
  },
  {
   "cell_type": "markdown",
   "id": "c62f10c7",
   "metadata": {},
   "source": [
    "The Nurse Scheduling Problem is an NP Hard problem and can be solved by a variety of methods and we have discussed one of the algorithms in this notebook. This solution satisfies all the hard constraints assumed for our algorithm and provides an optimal solution to the problem. "
   ]
  },
  {
   "cell_type": "markdown",
   "id": "9a0720ff",
   "metadata": {},
   "source": [
    "# References: "
   ]
  },
  {
   "cell_type": "markdown",
   "id": "8f266219",
   "metadata": {},
   "source": [
    "[1] Employee Scheduling Blog, Google OR-tools, Dec-2021, https://developers.google.com/optimization/scheduling/employee_scheduling#nurse_scheduling\n",
    "\n",
    "[2] Christian Carballo Lozano, Modeling and optimization of a weekly workforce with Python and Pyomo, Nov-20, https://towardsdatascience.com/modeling-and-optimization-of-a-weekly-workforce-with-python-and-pyomo-29484ba065bb\n",
    "\n",
    "[3] Oluwaseun M. Alade, Akeem O. Amusat, SOLVING NURSE SCHEDULING PROBLEM USING\n",
    "CONSTRAINT PROGRAMMING TECHNIQUE , 2019, https://arxiv.org/pdf/1902.01193.pdf\n"
   ]
  }
 ],
 "metadata": {
  "kernelspec": {
   "display_name": "Python 3 (ipykernel)",
   "language": "python",
   "name": "python3"
  },
  "language_info": {
   "codemirror_mode": {
    "name": "ipython",
    "version": 3
   },
   "file_extension": ".py",
   "mimetype": "text/x-python",
   "name": "python",
   "nbconvert_exporter": "python",
   "pygments_lexer": "ipython3",
   "version": "3.9.6"
  }
 },
 "nbformat": 4,
 "nbformat_minor": 5
}
